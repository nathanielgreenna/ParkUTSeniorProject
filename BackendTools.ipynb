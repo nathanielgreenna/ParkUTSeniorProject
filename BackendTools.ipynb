{
  "nbformat": 4,
  "nbformat_minor": 0,
  "metadata": {
    "colab": {
      "provenance": [],
      "collapsed_sections": [
        "0ionrXzOvBXU",
        "RqsAostNwLjV",
        "p9QfMoGOqItU"
      ]
    },
    "kernelspec": {
      "name": "python3",
      "display_name": "Python 3"
    },
    "language_info": {
      "name": "python"
    }
  },
  "cells": [
    {
      "cell_type": "markdown",
      "source": [
        "# Initialization\n",
        "this section must be run before running the code below. It sets up keys with the Firebase, and imports what we need later. You'll need to upload your Firebase API key each time."
      ],
      "metadata": {
        "id": "0ionrXzOvBXU"
      }
    },
    {
      "cell_type": "code",
      "execution_count": 1,
      "metadata": {
        "id": "A_w50jpxBWO9"
      },
      "outputs": [],
      "source": [
        "import firebase_admin\n",
        "from firebase_admin import credentials\n",
        "from firebase_admin import firestore\n",
        "import datetime\n",
        "import sys\n",
        "import pytz\n",
        "import pandas\n",
        "import math\n",
        "import random\n",
        "\n",
        "def round_dt(dt, delta):\n",
        "    return (datetime.min + math.floor((dt - datetime.min) / delta) * delta).time()\n",
        "\n",
        "def roundout(g):\n",
        "  g = max(math.floor(g + random.randrange(-2, 3)), 0)\n",
        "  return min(g, 100)\n",
        "  \n",
        "## write data to database\n",
        "## You'll need to upload your account key each time or put this script into an offline file and change the path- Colab doesn't save files\n",
        "cred = credentials.Certificate(\"serviceAccountKey.json\")\n",
        "firebase_admin.initialize_app(cred)\n",
        "db = firestore.client()"
      ]
    },
    {
      "cell_type": "markdown",
      "source": [
        "# Create document\n",
        "within a collection called ParkingPlaces, this code adds a new lot based on the information provided. One will have to add a \"Coords\" geopoint to the lot manually- no Geopoint seems to exist for the Python import."
      ],
      "metadata": {
        "id": "RqsAostNwLjV"
      }
    },
    {
      "cell_type": "code",
      "source": [
        "## Name of the document \n",
        "backendname = 'UTLotTest2'\n",
        "## Name that displays on the app\n",
        "displayname = 'UT Lot Live Demo'\n",
        "## You'll need to add a 'coords' field of type GeoPoint manually- it seems like Google isn't proactive on this one\n",
        "permits = \"C A K\"\n",
        "\n",
        "\n",
        "data = {\n",
        "    'name': displayname,\n",
        "    'permits': permits,\n",
        "    'spotsfilled': 49,\n",
        "    'capacity': 100,\n",
        "    'closed' : False\n",
        "}\n",
        "\n",
        "'2000-01-01T00:00:00'\n",
        "dt = datetime.datetime(2000, 1, 1, 0, 0, 0)\n",
        "\n",
        "while dt.date().day != 8:\n",
        "  data[str(dt.weekday())+\" \"+dt.time().isoformat(timespec='auto')] = [-1,-1,-1]\n",
        "  dt = dt + datetime.timedelta(minutes=15)\n",
        "\n",
        "db.collection('ParkingPlaces').document(backendname).set(data)\n",
        "\n"
      ],
      "metadata": {
        "id": "BvbFYG_5M0y2",
        "colab": {
          "base_uri": "https://localhost:8080/"
        },
        "outputId": "dbbdee56-0e5a-4315-c85f-0ea4f19fb60f"
      },
      "execution_count": 2,
      "outputs": [
        {
          "output_type": "execute_result",
          "data": {
            "text/plain": [
              "update_time {\n",
              "  seconds: 1671777905\n",
              "  nanos: 323460000\n",
              "}"
            ]
          },
          "metadata": {},
          "execution_count": 2
        }
      ]
    },
    {
      "cell_type": "markdown",
      "source": [
        "# Simulation data generator\n",
        "Given a name for an existing lot and a set of target points, creates simulation data with linear slopes between target points for the lot. Update and run the first one, then run the second."
      ],
      "metadata": {
        "id": "p9QfMoGOqItU"
      }
    },
    {
      "cell_type": "code",
      "source": [
        "#append (day, time hh/mm/ss in 15 minute intervals, occupancy percentage)\n",
        "speclist = []\n",
        "\n",
        "docname = \"UTLot11\"\n",
        "\n",
        "speclist.append((0, \"02:00:00\", 0))\n",
        "speclist.append((0, \"05:45:00\", 0))\n",
        "speclist.append((0, \"08:00:00\", 11))\n",
        "speclist.append((0, \"11:00:00\", 22))\n",
        "speclist.append((0, \"13:30:00\", 42))\n",
        "speclist.append((0, \"17:00:00\", 40))\n",
        "speclist.append((0, \"18:30:00\", 12))\n",
        "speclist.append((0, \"19:45:00\", 6))\n",
        "speclist.append((0, \"20:45:00\", 0))\n",
        "\n",
        "speclist.append((1, \"02:00:00\", 0))\n",
        "speclist.append((1, \"05:45:00\", 0))\n",
        "speclist.append((1, \"08:00:00\", 11))\n",
        "speclist.append((1, \"11:00:00\", 22))\n",
        "speclist.append((1, \"13:30:00\", 42))\n",
        "speclist.append((1, \"17:00:00\", 40))\n",
        "speclist.append((1, \"18:30:00\", 12))\n",
        "speclist.append((1, \"19:45:00\", 6))\n",
        "speclist.append((1, \"20:45:00\", 0))\n",
        "\n",
        "speclist.append((2, \"02:00:00\", 0))\n",
        "speclist.append((2, \"05:45:00\", 0))\n",
        "speclist.append((2, \"08:00:00\", 11))\n",
        "speclist.append((2, \"11:00:00\", 22))\n",
        "speclist.append((2, \"13:30:00\", 42))\n",
        "speclist.append((2, \"17:00:00\", 40))\n",
        "speclist.append((2, \"18:30:00\", 12))\n",
        "speclist.append((2, \"19:45:00\", 6))\n",
        "speclist.append((2, \"20:45:00\", 0))\n",
        "\n",
        "speclist.append((3, \"02:00:00\", 0))\n",
        "speclist.append((3, \"05:45:00\", 0))\n",
        "speclist.append((3, \"08:00:00\", 11))\n",
        "speclist.append((3, \"11:00:00\", 22))\n",
        "speclist.append((3, \"13:30:00\", 42))\n",
        "speclist.append((3, \"17:00:00\", 40))\n",
        "speclist.append((3, \"18:30:00\", 12))\n",
        "speclist.append((3, \"19:45:00\", 6))\n",
        "speclist.append((3, \"20:45:00\", 0))\n",
        "\n",
        "speclist.append((4, \"02:00:00\", 0))\n",
        "speclist.append((4, \"05:45:00\", 0))\n",
        "speclist.append((4, \"08:00:00\", 11))\n",
        "speclist.append((4, \"11:00:00\", 22))\n",
        "speclist.append((4, \"13:30:00\", 42))\n",
        "speclist.append((4, \"17:00:00\", 40))\n",
        "speclist.append((4, \"18:30:00\", 12))\n",
        "speclist.append((4, \"19:45:00\", 6))\n",
        "speclist.append((4, \"20:45:00\", 0))\n",
        "\n",
        "speclist.append((5, \"02:00:00\", 0))\n",
        "speclist.append((5, \"05:45:00\", 0))\n",
        "speclist.append((5, \"08:00:00\", 0))\n",
        "speclist.append((5, \"11:00:00\", 5))\n",
        "speclist.append((5, \"13:30:00\", 5))\n",
        "speclist.append((5, \"17:00:00\", 0))\n",
        "speclist.append((5, \"18:30:00\", 0))\n",
        "speclist.append((5, \"19:45:00\", 0))\n",
        "speclist.append((5, \"20:45:00\", 0))\n",
        "\n",
        "speclist.append((6, \"02:00:00\", 0))\n",
        "speclist.append((6, \"05:45:00\", 0))\n",
        "speclist.append((6, \"08:00:00\", 0))\n",
        "speclist.append((6, \"11:00:00\", 0))\n",
        "speclist.append((6, \"13:30:00\", 0))\n",
        "speclist.append((6, \"17:00:00\", 0))\n",
        "speclist.append((6, \"18:30:00\", 0))\n",
        "speclist.append((6, \"19:45:00\", 0))\n",
        "speclist.append((6, \"20:45:00\", 0))\n"
      ],
      "metadata": {
        "id": "IaJXmLQPqVen"
      },
      "execution_count": 4,
      "outputs": []
    },
    {
      "cell_type": "code",
      "source": [
        "timeslist = []\n",
        "basedate = datetime.datetime(2000, 1, 1, 0, 0, 0)\n",
        "data = db.collection('ParkingPlaces').document(docname).get().to_dict()\n",
        "for x in speclist:\n",
        "  daydelt = datetime.timedelta(days = x[0])\n",
        "  timedelt = datetime.timedelta(hours = int(x[1][0:2]), minutes = int(x[1][3:5]))\n",
        "  xdate = (basedate + daydelt) + timedelt\n",
        "\n",
        "  \n",
        "  if xdate.day > 7 or xdate.minute % 15 != 0:\n",
        "    print(\"There's an invalid date in there somewhere\")\n",
        "    print(xdate.day, \" \", xdate.minute)\n",
        "    sys.exit(1)\n",
        "  timeslist.append((xdate, x[2]))\n",
        "\n",
        "#sort the values in order\n",
        "timeslist.sort()\n",
        "s = len(timeslist)\n",
        "\n",
        "for ind in range(len(timeslist)-1):\n",
        "  steps = math.floor((timeslist[(ind+1)%s][0] - timeslist[ind][0]).total_seconds()/60/15)\n",
        "  #print(timeslist[ind+1][0])\n",
        "  diff = (timeslist[(ind+1)%s][1] - timeslist[ind][1])*1.0/steps\n",
        "  #print(timeslist[(ind)%s][0])\n",
        "  go = timeslist[ind][0]\n",
        "  start = timeslist[ind][1]\n",
        "  for quarts in range(steps):\n",
        "    data[str(go.day-1)+\" \"+go.time().isoformat(timespec='auto')] = [roundout(start), roundout(start), roundout(start)]\n",
        "    go = go + datetime.timedelta(minutes=15)\n",
        "    start += diff\n",
        "    if go.day == 8:\n",
        "      go = go + datetime.timedelta(days=-7)\n",
        "\n",
        "ind = len(timeslist)-1\n",
        "steps = math.floor(((datetime.timedelta(days = 7).total_seconds())/60/15) - ((timeslist[ind][0] - timeslist[(ind+1)%s][0]).total_seconds()/60/15))\n",
        "diff = (timeslist[(ind+1)%s][1] - timeslist[ind][1])*1.0/steps\n",
        "#print(timeslist[(ind)%s][0])\n",
        "go = timeslist[ind][0]\n",
        "start = timeslist[ind][1]\n",
        "for quarts in range(steps):\n",
        "  data[str(go.day-1)+\" \"+go.time().isoformat(timespec='auto')] = [roundout(start), roundout(start), roundout(start)]\n",
        "  go = go + datetime.timedelta(minutes=15)\n",
        "  start += diff\n",
        "  if go.day == 8:\n",
        "    go = go + datetime.timedelta(days=-7)\n",
        "\n",
        "\n",
        "\n",
        "db.collection('ParkingPlaces').document(docname).set(data)\n",
        "  \n"
      ],
      "metadata": {
        "id": "qz7I5lNhqkvq",
        "colab": {
          "base_uri": "https://localhost:8080/"
        },
        "outputId": "54058b61-3882-4f83-f3d0-6e2842dced39"
      },
      "execution_count": 5,
      "outputs": [
        {
          "output_type": "execute_result",
          "data": {
            "text/plain": [
              "update_time {\n",
              "  seconds: 1671778885\n",
              "  nanos: 750090000\n",
              "}"
            ]
          },
          "metadata": {},
          "execution_count": 5
        }
      ]
    }
  ]
}